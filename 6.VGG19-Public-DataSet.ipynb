{
 "cells": [
  {
   "cell_type": "code",
   "execution_count": 1,
   "metadata": {},
   "outputs": [],
   "source": [
    "import warnings\n",
    "warnings.filterwarnings('always')\n",
    "warnings.filterwarnings('ignore')"
   ]
  },
  {
   "cell_type": "code",
   "execution_count": 2,
   "metadata": {},
   "outputs": [
    {
     "data": {
      "text/plain": [
       "[name: \"/device:CPU:0\"\n",
       " device_type: \"CPU\"\n",
       " memory_limit: 268435456\n",
       " locality {\n",
       " }\n",
       " incarnation: 523492677239826000, name: \"/device:GPU:0\"\n",
       " device_type: \"GPU\"\n",
       " memory_limit: 9202108990\n",
       " locality {\n",
       "   bus_id: 1\n",
       "   links {\n",
       "   }\n",
       " }\n",
       " incarnation: 3915123029396574677\n",
       " physical_device_desc: \"device: 0, name: GeForce GTX 1080 Ti, pci bus id: 0000:01:00.0, compute capability: 6.1\"]"
      ]
     },
     "execution_count": 2,
     "metadata": {},
     "output_type": "execute_result"
    }
   ],
   "source": [
    "from tensorflow.python.client import device_lib\n",
    "device_lib.list_local_devices()"
   ]
  },
  {
   "cell_type": "code",
   "execution_count": 3,
   "metadata": {},
   "outputs": [
    {
     "name": "stderr",
     "output_type": "stream",
     "text": [
      "Using TensorFlow backend.\n"
     ]
    }
   ],
   "source": [
    "import os\n",
    "import numpy as np\n",
    "np.random.seed(777)\n",
    "\n",
    "import keras.backend as K\n",
    "from keras.preprocessing.image import ImageDataGenerator\n",
    "from keras.optimizers import Adam, SGD, RMSprop\n",
    "from keras.models import Model, Sequential\n",
    "from keras.layers import Flatten, Dense, Activation, Dropout, Conv2D, MaxPooling2D, BatchNormalization, GlobalAveragePooling2D\n",
    "from keras.models import load_model\n",
    "from keras.applications.inception_v3 import InceptionV3\n",
    "\n",
    "import matplotlib.pyplot as plt\n",
    "%matplotlib inline"
   ]
  },
  {
   "cell_type": "code",
   "execution_count": 4,
   "metadata": {},
   "outputs": [],
   "source": [
    "output_classes = 2\n",
    "batch_size = 32 \n",
    "img_height, img_width = 256, 256\n",
    "epochs = 50\n",
    "\n",
    "\n",
    "nb_train_samples = 3059\n",
    "nb_validation_samples = 407\n",
    "nb_test_samples = 459"
   ]
  },
  {
   "cell_type": "code",
   "execution_count": 5,
   "metadata": {},
   "outputs": [],
   "source": [
    "train_dir = 'data/public/train/'\n",
    "validation_dir = 'data/public/validation'\n",
    "test_dir = 'data/public/test'"
   ]
  },
  {
   "cell_type": "code",
   "execution_count": 6,
   "metadata": {},
   "outputs": [],
   "source": [
    "if K.image_data_format() == 'channels_first':\n",
    "    input_shape = (3, img_width, img_height)\n",
    "else:\n",
    "    input_shape = (img_width, img_height, 3)"
   ]
  },
  {
   "cell_type": "code",
   "execution_count": 7,
   "metadata": {},
   "outputs": [
    {
     "name": "stdout",
     "output_type": "stream",
     "text": [
      "data/public/train/ 0\n",
      "data/public/train/benign 504\n",
      "data/public/train/malignant 2555\n",
      "******************************\n",
      "data/public/validation 0\n",
      "data/public/validation\\benign 66\n",
      "data/public/validation\\malignant 341\n",
      "******************************\n",
      "data/public/test 0\n",
      "data/public/test\\benign 72\n",
      "data/public/test\\malignant 387\n"
     ]
    }
   ],
   "source": [
    "for root,dirs,files in os.walk(train_dir):\n",
    "    print (root, len(files))\n",
    "\n",
    "print(\"*\"*30)\n",
    "for root,dirs,files in os.walk(validation_dir):\n",
    "    print (root, len(files))\n",
    "    \n",
    "print(\"*\"*30)\n",
    "for root,dirs,files in os.walk(test_dir):\n",
    "    print (root, len(files))"
   ]
  },
  {
   "cell_type": "code",
   "execution_count": 8,
   "metadata": {},
   "outputs": [
    {
     "name": "stdout",
     "output_type": "stream",
     "text": [
      "Found 3059 images belonging to 2 classes.\n",
      "Found 407 images belonging to 2 classes.\n",
      "Found 459 images belonging to 2 classes.\n"
     ]
    }
   ],
   "source": [
    "random_seed = np.random.seed(1142)\n",
    "\n",
    "train_datagen = ImageDataGenerator(\n",
    "    rescale=1. / 255,\n",
    "    featurewise_center=True,\n",
    "    featurewise_std_normalization=True)\n",
    "\n",
    "train_generator = train_datagen.flow_from_directory(\n",
    "    train_dir,\n",
    "    target_size=(img_height, img_width),\n",
    "    batch_size=batch_size,\n",
    "    seed = random_seed,\n",
    "    shuffle = True,\n",
    "    class_mode='categorical')\n",
    "\n",
    "validation_generator = train_datagen.flow_from_directory(\n",
    "    validation_dir,\n",
    "    target_size=(img_height, img_width),\n",
    "    batch_size=batch_size,\n",
    "    seed = random_seed,\n",
    "    shuffle = True,\n",
    "    class_mode='categorical')\n",
    "\n",
    "test_datagen = ImageDataGenerator(rescale=1. / 255)\n",
    "\n",
    "test_generator = test_datagen.flow_from_directory(\n",
    "    test_dir,\n",
    "    target_size=(img_height, img_width),\n",
    "    batch_size=batch_size,\n",
    "    seed = random_seed,\n",
    "    shuffle = False,\n",
    "    class_mode='categorical')"
   ]
  },
  {
   "cell_type": "code",
   "execution_count": 11,
   "metadata": {},
   "outputs": [],
   "source": [
    "adam_opt = Adam(lr=1e-5, beta_1=0.9, beta_2=0.999, epsilon=1e-08, decay=1e-5)\n",
    "sgd_opt = SGD(lr=1e-06, momentum=0.0, decay=0.0, nesterov=False)\n",
    "rmsp_opt = RMSprop(lr=1e-4, decay=0.9)\n"
   ]
  },
  {
   "cell_type": "code",
   "execution_count": 12,
   "metadata": {},
   "outputs": [],
   "source": [
    "from keras.applications.vgg19 import VGG19\n",
    "from keras.layers import Flatten, Dense, Dropout, BatchNormalization\n",
    "from keras.regularizers import l2\n",
    "\n",
    "model = (VGG19(include_top=False, pooling='avg', weights=\"imagenet\"))\n",
    "x = model.output\n",
    "# x = Flatten()(x)\n",
    "x = Dense(1024, activation=\"relu\", kernel_regularizer=l2(0.0001), bias_regularizer=l2(0.0001))(x)\n",
    "x = BatchNormalization()(x)\n",
    "x = Dropout(0.5)(x)\n",
    "x = Dense(1024, activation=\"relu\", kernel_regularizer=l2(0.0001), bias_regularizer=l2(0.0001))(x)\n",
    "x = BatchNormalization()(x)\n",
    "x = Dropout(0.5)(x)\n",
    "predictions = Dense(2, activation=\"softmax\", kernel_regularizer=l2(0.0001), bias_regularizer=l2(0.0001))(x)\n",
    "model = Model(input = model.input, output = predictions)\n",
    "\n",
    "\n",
    "model.compile(loss='categorical_crossentropy',\n",
    "              optimizer= adam_opt,\n",
    "              metrics = [\"categorical_accuracy\"])"
   ]
  },
  {
   "cell_type": "code",
   "execution_count": 13,
   "metadata": {},
   "outputs": [],
   "source": [
    "adam_opt = Adam(lr=1e-5, beta_1=0.9, beta_2=0.999, epsilon=1e-08, decay=1e-5)\n",
    "sgd_opt = SGD(lr=1e-06, momentum=0.0, decay=0.0, nesterov=False)\n",
    "rmsp_opt = RMSprop(lr=1e-4, decay=0.9)\n",
    "\n",
    "model.compile(optimizer = rmsp_opt, loss='categorical_crossentropy', metrics=['accuracy'])"
   ]
  },
  {
   "cell_type": "code",
   "execution_count": 14,
   "metadata": {},
   "outputs": [
    {
     "name": "stdout",
     "output_type": "stream",
     "text": [
      "Epoch 1/50\n",
      "95/95 [==============================] - 40s 417ms/step - loss: 1.3422 - acc: 0.5158 - val_loss: 0.7309 - val_acc: 0.8177\n",
      "Epoch 2/50\n",
      "95/95 [==============================] - 36s 383ms/step - loss: 1.3031 - acc: 0.5231 - val_loss: 0.6446 - val_acc: 0.8347\n",
      "Epoch 3/50\n",
      "95/95 [==============================] - 35s 368ms/step - loss: 1.3636 - acc: 0.5146 - val_loss: 0.7061 - val_acc: 0.7733\n",
      "Epoch 4/50\n",
      "95/95 [==============================] - 35s 367ms/step - loss: 1.2868 - acc: 0.5334 - val_loss: 0.6865 - val_acc: 0.7680\n",
      "Epoch 5/50\n",
      "95/95 [==============================] - 35s 366ms/step - loss: 1.2936 - acc: 0.5220 - val_loss: 0.7507 - val_acc: 0.7040\n",
      "Epoch 6/50\n",
      "95/95 [==============================] - 35s 366ms/step - loss: 1.2508 - acc: 0.5413 - val_loss: 0.7266 - val_acc: 0.7253\n",
      "Epoch 7/50\n",
      "95/95 [==============================] - 35s 365ms/step - loss: 1.2852 - acc: 0.5374 - val_loss: 0.7365 - val_acc: 0.7227\n",
      "Epoch 8/50\n",
      "95/95 [==============================] - 35s 366ms/step - loss: 1.2893 - acc: 0.5321 - val_loss: 0.7290 - val_acc: 0.7173\n",
      "Epoch 9/50\n",
      "95/95 [==============================] - 35s 366ms/step - loss: 1.2564 - acc: 0.5368 - val_loss: 0.8038 - val_acc: 0.6533\n",
      "Epoch 10/50\n",
      "95/95 [==============================] - 35s 365ms/step - loss: 1.2705 - acc: 0.5464 - val_loss: 0.8455 - val_acc: 0.6453\n",
      "Epoch 11/50\n",
      "95/95 [==============================] - 35s 366ms/step - loss: 1.3100 - acc: 0.5202 - val_loss: 0.7452 - val_acc: 0.7067\n",
      "Epoch 12/50\n",
      "95/95 [==============================] - 35s 366ms/step - loss: 1.2792 - acc: 0.5353 - val_loss: 0.8110 - val_acc: 0.6667\n",
      "Epoch 13/50\n",
      "95/95 [==============================] - 35s 366ms/step - loss: 1.2449 - acc: 0.5378 - val_loss: 0.8105 - val_acc: 0.6587\n",
      "Epoch 14/50\n",
      "95/95 [==============================] - 35s 366ms/step - loss: 1.2790 - acc: 0.5407 - val_loss: 0.8187 - val_acc: 0.6667\n",
      "Epoch 15/50\n",
      "95/95 [==============================] - 35s 366ms/step - loss: 1.2578 - acc: 0.5388 - val_loss: 0.8223 - val_acc: 0.6667\n",
      "Epoch 16/50\n",
      "95/95 [==============================] - 35s 365ms/step - loss: 1.2707 - acc: 0.5439 - val_loss: 0.7721 - val_acc: 0.7013\n",
      "Epoch 17/50\n",
      "95/95 [==============================] - 35s 366ms/step - loss: 1.2713 - acc: 0.5369 - val_loss: 0.7948 - val_acc: 0.6747\n",
      "Epoch 18/50\n",
      "95/95 [==============================] - 35s 366ms/step - loss: 1.2794 - acc: 0.5353 - val_loss: 0.8003 - val_acc: 0.6640\n",
      "Epoch 19/50\n",
      "95/95 [==============================] - 35s 365ms/step - loss: 1.2673 - acc: 0.5398 - val_loss: 0.8159 - val_acc: 0.6747\n",
      "Epoch 20/50\n",
      "95/95 [==============================] - 35s 366ms/step - loss: 1.2495 - acc: 0.5454 - val_loss: 0.8388 - val_acc: 0.6533\n",
      "Epoch 21/50\n",
      "95/95 [==============================] - 35s 366ms/step - loss: 1.3045 - acc: 0.5452 - val_loss: 0.7485 - val_acc: 0.7227\n",
      "Epoch 22/50\n",
      "95/95 [==============================] - 35s 365ms/step - loss: 1.3111 - acc: 0.5283 - val_loss: 0.7955 - val_acc: 0.6960\n",
      "Epoch 23/50\n",
      "95/95 [==============================] - 35s 366ms/step - loss: 1.2368 - acc: 0.5421 - val_loss: 0.7840 - val_acc: 0.6853\n",
      "Epoch 24/50\n",
      "95/95 [==============================] - 35s 365ms/step - loss: 1.3014 - acc: 0.5375 - val_loss: 0.7923 - val_acc: 0.6907\n",
      "Epoch 25/50\n",
      "95/95 [==============================] - 35s 366ms/step - loss: 1.2854 - acc: 0.5308 - val_loss: 0.8297 - val_acc: 0.6613\n",
      "Epoch 26/50\n",
      "95/95 [==============================] - 35s 366ms/step - loss: 1.2887 - acc: 0.5268 - val_loss: 0.8266 - val_acc: 0.6667\n",
      "Epoch 27/50\n",
      "95/95 [==============================] - 35s 365ms/step - loss: 1.2177 - acc: 0.5441 - val_loss: 0.8110 - val_acc: 0.6797\n",
      "Epoch 28/50\n",
      "95/95 [==============================] - 35s 366ms/step - loss: 1.2373 - acc: 0.5502 - val_loss: 0.7898 - val_acc: 0.6987\n",
      "Epoch 29/50\n",
      "95/95 [==============================] - 35s 365ms/step - loss: 1.3017 - acc: 0.5290 - val_loss: 0.8061 - val_acc: 0.6613\n",
      "Epoch 30/50\n",
      "95/95 [==============================] - 35s 366ms/step - loss: 1.2382 - acc: 0.5451 - val_loss: 0.8136 - val_acc: 0.6880\n",
      "Epoch 31/50\n",
      "95/95 [==============================] - 35s 365ms/step - loss: 1.2744 - acc: 0.5470 - val_loss: 0.8045 - val_acc: 0.6613\n",
      "Epoch 32/50\n",
      "95/95 [==============================] - 35s 365ms/step - loss: 1.2709 - acc: 0.5374 - val_loss: 0.8292 - val_acc: 0.6720\n",
      "Epoch 33/50\n",
      "95/95 [==============================] - 35s 366ms/step - loss: 1.2601 - acc: 0.5549 - val_loss: 0.8606 - val_acc: 0.6507\n",
      "Epoch 34/50\n",
      "95/95 [==============================] - 35s 365ms/step - loss: 1.2685 - acc: 0.5467 - val_loss: 0.7840 - val_acc: 0.6880\n",
      "Epoch 35/50\n",
      "95/95 [==============================] - 35s 366ms/step - loss: 1.2485 - acc: 0.5421 - val_loss: 0.8526 - val_acc: 0.6347\n",
      "Epoch 36/50\n",
      "95/95 [==============================] - 35s 368ms/step - loss: 1.2425 - acc: 0.5479 - val_loss: 0.7894 - val_acc: 0.7093\n",
      "Epoch 37/50\n",
      "95/95 [==============================] - 35s 366ms/step - loss: 1.2920 - acc: 0.5339 - val_loss: 0.8167 - val_acc: 0.6613\n",
      "Epoch 38/50\n",
      "95/95 [==============================] - 35s 367ms/step - loss: 1.2197 - acc: 0.5463 - val_loss: 0.8899 - val_acc: 0.6373\n",
      "Epoch 39/50\n",
      "95/95 [==============================] - 35s 366ms/step - loss: 1.2988 - acc: 0.5474 - val_loss: 0.7816 - val_acc: 0.6933\n",
      "Epoch 40/50\n",
      "95/95 [==============================] - 35s 367ms/step - loss: 1.3000 - acc: 0.5308 - val_loss: 0.8113 - val_acc: 0.6719\n",
      "Epoch 41/50\n",
      "95/95 [==============================] - 35s 367ms/step - loss: 1.2823 - acc: 0.5361 - val_loss: 0.8329 - val_acc: 0.6560\n",
      "Epoch 42/50\n",
      "95/95 [==============================] - 35s 366ms/step - loss: 1.2814 - acc: 0.5479 - val_loss: 0.8032 - val_acc: 0.6933\n",
      "Epoch 43/50\n",
      "95/95 [==============================] - 35s 367ms/step - loss: 1.2307 - acc: 0.5478 - val_loss: 0.8525 - val_acc: 0.6667\n",
      "Epoch 44/50\n",
      "95/95 [==============================] - 35s 367ms/step - loss: 1.2814 - acc: 0.5498 - val_loss: 0.7929 - val_acc: 0.6747\n",
      "Epoch 45/50\n",
      "95/95 [==============================] - 35s 367ms/step - loss: 1.2935 - acc: 0.5378 - val_loss: 0.8334 - val_acc: 0.6720\n",
      "Epoch 46/50\n",
      "95/95 [==============================] - 35s 366ms/step - loss: 1.2588 - acc: 0.5490 - val_loss: 0.8060 - val_acc: 0.6800\n",
      "Epoch 47/50\n",
      "95/95 [==============================] - 35s 367ms/step - loss: 1.2914 - acc: 0.5415 - val_loss: 0.8263 - val_acc: 0.6693\n",
      "Epoch 48/50\n",
      "95/95 [==============================] - 35s 367ms/step - loss: 1.2689 - acc: 0.5413 - val_loss: 0.7532 - val_acc: 0.7280\n",
      "Epoch 49/50\n",
      "95/95 [==============================] - 35s 367ms/step - loss: 1.2798 - acc: 0.5360 - val_loss: 0.8415 - val_acc: 0.6587\n",
      "Epoch 50/50\n",
      "95/95 [==============================] - 35s 367ms/step - loss: 1.2583 - acc: 0.5397 - val_loss: 0.7705 - val_acc: 0.7173\n"
     ]
    }
   ],
   "source": [
    "history = model.fit_generator(\n",
    "  train_generator,\n",
    "  steps_per_epoch = nb_train_samples // batch_size,\n",
    "  epochs = epochs,\n",
    "  validation_data = validation_generator,\n",
    "  validation_steps = nb_validation_samples // batch_size)"
   ]
  },
  {
   "cell_type": "code",
   "execution_count": 15,
   "metadata": {},
   "outputs": [
    {
     "data": {
      "image/png": "[encoded data removed]",
      "text/plain": [
       "<Figure size 432x288 with 1 Axes>"
      ]
     },
     "metadata": {},
     "output_type": "display_data"
    },
    {
     "data": {
      "image/png": "[encoded data removed]",
      "text/plain": [
       "<Figure size 432x288 with 1 Axes>"
      ]
     },
     "metadata": {},
     "output_type": "display_data"
    },
    {
     "data": {
      "text/plain": [
       "<matplotlib.legend.Legend at 0x2445f7fae80>"
      ]
     },
     "execution_count": 15,
     "metadata": {},
     "output_type": "execute_result"
    },
    {
     "data": {
      "image/png": "[encoded data removed]",
      "text/plain": [
       "<Figure size 432x288 with 1 Axes>"
      ]
     },
     "metadata": {},
     "output_type": "display_data"
    }
   ],
   "source": [
    "plt.style.use(\"ggplot\")\n",
    "\n",
    "plt.plot(history.history['acc'])\n",
    "plt.plot(history.history['val_acc'])\n",
    "plt.title('model accuracy')\n",
    "plt.ylabel('Accuracy')\n",
    "plt.xlabel('Epoch')\n",
    "plt.legend(['Training Acc', 'Test Acc'], loc='upper left')\n",
    "plt.show()\n",
    "\n",
    "# summarize history for loss\n",
    "plt.plot(history.history['loss'])\n",
    "plt.plot(history.history['val_loss'])\n",
    "plt.title('model loss')\n",
    "plt.ylabel('Loss')\n",
    "plt.xlabel('Epoch')\n",
    "plt.legend(['Training Loss', 'Test Loss'], loc='upper left')\n",
    "plt.show()\n",
    "\n",
    "plt.figure()\n",
    "N = epochs\n",
    "plt.plot(np.arange(0, N), history.history[\"loss\"], label=\"train_loss\")\n",
    "plt.plot(np.arange(0, N), history.history[\"val_loss\"], label=\"val_loss\")\n",
    "plt.plot(np.arange(0, N), history.history[\"acc\"], label=\"train_acc\")\n",
    "plt.plot(np.arange(0, N), history.history[\"val_acc\"], label=\"val_acc\")\n",
    "plt.title(\"Training Loss and Accuracy\")\n",
    "plt.xlabel(\"Epoch #\")\n",
    "plt.ylabel(\"Loss/Accuracy\")\n",
    "plt.legend(loc=\"upper left\")"
   ]
  },
  {
   "cell_type": "code",
   "execution_count": 16,
   "metadata": {},
   "outputs": [
    {
     "name": "stdout",
     "output_type": "stream",
     "text": [
      "Validation Score:  0.7995077511798934\n",
      "Validation Accuracy:  0.6916719643613448\n"
     ]
    }
   ],
   "source": [
    "score = model.evaluate_generator(validation_generator, steps=50)\n",
    "\n",
    "print ('Validation Score: ', score[0])\n",
    "print ('Validation Accuracy: ',score[1])"
   ]
  },
  {
   "cell_type": "code",
   "execution_count": 24,
   "metadata": {},
   "outputs": [
    {
     "name": "stdout",
     "output_type": "stream",
     "text": [
      "15/14 [===============================] - 2s 120ms/step\n",
      "No of errors = 256/459\n"
     ]
    }
   ],
   "source": [
    "filename = test_generator.filenames\n",
    "truth = test_generator.classes\n",
    "label = test_generator.class_indices\n",
    "indexlabel = dict((value, key) for key, value in label.items())\n",
    "\n",
    "predicts = model.predict_generator(test_generator, steps=test_generator.samples/test_generator.batch_size, verbose=1)\n",
    "predict_class = np.argmax(predicts, axis=1)\n",
    "errors = np.where(predict_class != truth)[0]\n",
    "print(\"No of errors = {}/{}\".format(len(errors),test_generator.samples))"
   ]
  },
  {
   "cell_type": "code",
   "execution_count": null,
   "metadata": {},
   "outputs": [],
   "source": [
    "from sklearn.metrics import confusion_matrix\n",
    "cm = confusion_matrix(truth,predict_class)\n",
    "\n",
    "labels = []\n",
    "for k,v in indexlabel.items():\n",
    "    labels.append(v)\n",
    "    \n",
    "import itertools\n",
    "def plot_confusion_matrix(cm, classes,\n",
    "                          normalize=False,\n",
    "                          title='Confusion matrix',\n",
    "                          cmap=plt.cm.Blues):\n",
    "    accuracy = np.trace(cm) / float(np.sum(cm))\n",
    "    misclass = 1 - accuracy\n",
    "    if normalize:\n",
    "        cm = cm.astype('float') / cm.sum(axis=1)[:, np.newaxis]\n",
    "        print(\"Normalized confusion matrix\")\n",
    "    else:\n",
    "        print('Confusion Matrix')\n",
    "\n",
    "    print(cm)\n",
    "#     fig = plt.figure()\n",
    "    plt.imshow(cm, interpolation='nearest', cmap=cmap)\n",
    "    plt.title(title)\n",
    "    plt.colorbar()\n",
    "    tick_marks = np.arange(len(classes))\n",
    "    plt.xticks(tick_marks, classes, rotation=45)\n",
    "    plt.yticks(tick_marks, classes)\n",
    "\n",
    "    fmt = '.2f' if normalize else 'd'\n",
    "    thresh = cm.max() / 2.\n",
    "    for i, j in itertools.product(range(cm.shape[0]), range(cm.shape[1])):\n",
    "        plt.text(j, i, format(cm[i, j], fmt),\n",
    "                 horizontalalignment=\"center\",\n",
    "                 color=\"white\" if cm[i, j] > thresh else \"black\")\n",
    "\n",
    "    plt.tight_layout()\n",
    "    plt.ylabel('True label')\n",
    "    plt.xlabel('Predicted label\\naccuracy={:0.4f}; misclass={:0.4f}'.format(accuracy, misclass))\n",
    "    plt.savefig('plots/3.InceptionV3-2-Private-DataSet-CM.png', bbox_inches='tight', dpi = 100) \n",
    "# fig.savefig('plots/1.Xception-CM.png') \n",
    "plt.figure(figsize=(10,10))\n",
    "\n",
    "\n",
    "plot_confusion_matrix(cm, classes=labels,\n",
    "                      title='Confusion Matrix')"
   ]
  },
  {
   "cell_type": "code",
   "execution_count": null,
   "metadata": {},
   "outputs": [],
   "source": [
    "#ROC Curve for each class\n",
    "from sklearn.metrics import roc_curve, auc\n",
    "from sklearn.preprocessing import label_binarize\n",
    "from sklearn.multiclass import OneVsRestClassifier\n",
    "import matplotlib.pyplot as plt\n",
    "%matplotlib inline  \n",
    "from scipy import interp\n",
    "from itertools import cycle\n",
    "\n",
    "y_pred = predicts\n",
    "y_pred_probabilities=y_pred\n",
    "\n",
    "y_pred = np.argmax(y_pred,axis = 1) \n",
    "y_actual = test_generator.classes\n",
    "\n",
    "classnames=[]\n",
    "for classname in test_generator.class_indices:\n",
    "    classnames.append(classname)\n",
    "\n",
    "y_actual_binary = label_binarize(y_actual, classes=[0, 1])\n",
    "y_pred_binary = y_pred_probabilities#label_binarize(y_pred_probabilities, classes=[0, 1, 2, 3, 4])\n",
    "n_classes=2\n",
    "lw=2\n",
    "\n",
    "# Compute ROC curve and ROC area for each class\n",
    "fpr = dict()\n",
    "tpr = dict()\n",
    "roc_auc = dict()\n",
    "for i in range(n_classes):\n",
    "    fpr[i], tpr[i], _ = roc_curve(y_actual_binary[:, i], y_pred_binary[:, i])\n",
    "    roc_auc[i] = auc(fpr[i], tpr[i])\n",
    "\n",
    "# Compute micro-average ROC curve and ROC area\n",
    "fpr[\"micro\"], tpr[\"micro\"], _ = roc_curve(y_actual_binary.ravel(), y_pred_binary.ravel())\n",
    "roc_auc[\"micro\"] = auc(fpr[\"micro\"], tpr[\"micro\"])\n",
    "\n",
    "# Compute macro-average ROC curve and ROC area\n",
    "\n",
    "# First aggregate all false positive rates\n",
    "all_fpr = np.unique(np.concatenate([fpr[i] for i in range(n_classes)]))\n",
    "\n",
    "# Then interpolate all ROC curves at this points\n",
    "mean_tpr = np.zeros_like(all_fpr)\n",
    "for i in range(n_classes):\n",
    "    mean_tpr += interp(all_fpr, fpr[i], tpr[i])\n",
    "\n",
    "# Finally average it and compute AUC\n",
    "mean_tpr /= n_classes\n",
    "\n",
    "fpr[\"macro\"] = all_fpr\n",
    "tpr[\"macro\"] = mean_tpr\n",
    "roc_auc[\"macro\"] = auc(fpr[\"macro\"], tpr[\"macro\"])\n",
    "\n",
    "# Plot all ROC curves\n",
    "plt.figure(figsize=(7, 7))\n",
    "\n",
    "\n",
    "colors = cycle(['red','blue','green','yellow','orange', 'aqua', 'cornflowerblue'])\n",
    "for i, color in zip(range(n_classes), colors):\n",
    "    plt.plot(fpr[i], tpr[i], color=color, lw=lw,\n",
    "             label='ROC curve of class {0} (area = {1:0.2f})'\n",
    "             ''.format(classnames[i], roc_auc[i]))\n",
    "\n",
    "plt.plot([0, 1], [0, 1], 'k--', lw=lw)\n",
    "plt.xlim([0.0, 1.0])\n",
    "plt.ylim([0.0, 1.05])\n",
    "plt.xlabel('False Positive Rate')\n",
    "plt.ylabel('True Positive Rate')\n",
    "plt.title('Receiver operating characteristic for multi-class')\n",
    "plt.legend(loc=\"best\")\n",
    "plt.show()"
   ]
  },
  {
   "cell_type": "code",
   "execution_count": null,
   "metadata": {},
   "outputs": [],
   "source": [
    "# Zoom in view of the upper left corner.\n",
    "plt.figure(2)\n",
    "plt.xlim(0, 0.2)\n",
    "plt.ylim(0.8, 1)\n",
    "\n",
    "plt.plot(fpr[\"micro\"], tpr[\"micro\"],\n",
    "         label='micro-average ROC curve (area = {0:0.2f})'\n",
    "               ''.format(roc_auc[\"micro\"]),\n",
    "         color='deeppink', linestyle=':', linewidth=2)\n",
    "\n",
    "plt.plot(fpr[\"macro\"], tpr[\"macro\"],\n",
    "         label='macro-average ROC curve (area = {0:0.2f})'\n",
    "               ''.format(roc_auc[\"macro\"]),\n",
    "         color='navy', linestyle=':', linewidth=2)\n",
    "\n",
    "\n",
    "colors = cycle(['red','blue','green','yellow','orange', 'aqua', 'cornflowerblue'])\n",
    "for i, color in zip(range(n_classes), colors):\n",
    "    plt.plot(fpr[i], tpr[i], color=color, lw=lw,\n",
    "             label='ROC curve of class {0} (area = {1:0.2f})'\n",
    "             ''.format(classnames[i], roc_auc[i]))\n",
    "\n",
    "    \n",
    "    \n",
    "plt.plot([0, 1], [0, 1], 'k--', lw=lw)\n",
    "plt.xlabel('False Positive Rate')\n",
    "plt.ylabel('True Positive Rate')\n",
    "plt.title('Receiver operating characteristic for multi-classs')\n",
    "plt.legend(loc=\"lower right\")\n",
    "plt.savefig('plots/1.Xception-ROC.png') \n",
    "plt.show()"
   ]
  },
  {
   "cell_type": "code",
   "execution_count": null,
   "metadata": {},
   "outputs": [],
   "source": [
    "from sklearn.preprocessing import LabelEncoder\n",
    "from sklearn.metrics import confusion_matrix, classification_report\n",
    "\n",
    "confusion_mtx = confusion_matrix(y_actual, y_pred) \n",
    "print(confusion_mtx)\n",
    "target_names = classnames\n",
    "print(classification_report(y_actual, y_pred, target_names=target_names))"
   ]
  },
  {
   "cell_type": "code",
   "execution_count": null,
   "metadata": {},
   "outputs": [],
   "source": [
    "from sklearn.metrics import roc_curve, auc\n",
    "\n",
    "fpr, tpr, thresholds = roc_curve(test_generator.classes, predict_class)\n",
    "roc_auc = auc(fpr, tpr)\n",
    "\n",
    "import matplotlib.pyplot as plt\n",
    "\n",
    "plt.figure()\n",
    "lw = 1\n",
    "plt.plot(fpr, tpr, color='darkorange',\n",
    "         lw=lw, label='ROC curve (area = %0.2f)' % roc_auc)\n",
    "plt.plot([0, 1], [0, 1], color='navy', lw=lw, linestyle='--')\n",
    "plt.xlim([0.0, 1.0])\n",
    "plt.ylim([0.0, 1.05])\n",
    "plt.xlabel('False Positive Rate')\n",
    "plt.ylabel('True Positive Rate')\n",
    "plt.title('Receiver operating characteristic example')\n",
    "plt.legend(loc=\"lower right\")\n",
    "plt.show()\n",
    "\n",
    "#plotting sensitivity and specificity\n",
    "plt.figure()\n",
    "plt.plot(thresholds, 1-fpr, label = 'specificity')\n",
    "plt.plot(thresholds, tpr, label = 'sensitivity')\n",
    "plt.legend()\n",
    "plt.grid()\n",
    "plt.xlabel('Threshold value')\n",
    "plt.show()"
   ]
  },
  {
   "cell_type": "code",
   "execution_count": null,
   "metadata": {},
   "outputs": [],
   "source": [
    "model.save('models/6.VGG19-Private-DataSet-Model.h5')\n",
    "model.save_weights('models/6.VGG19-Private-DataSet-Weights.h5')"
   ]
  },
  {
   "cell_type": "markdown",
   "metadata": {},
   "source": [
    "___"
   ]
  },
  {
   "cell_type": "code",
   "execution_count": null,
   "metadata": {},
   "outputs": [],
   "source": []
  },
  {
   "cell_type": "code",
   "execution_count": null,
   "metadata": {},
   "outputs": [],
   "source": []
  }
 ],
 "metadata": {
  "kernelspec": {
   "display_name": "Python 3",
   "language": "python",
   "name": "python3"
  },
  "language_info": {
   "codemirror_mode": {
    "name": "ipython",
    "version": 3
   },
   "file_extension": ".py",
   "mimetype": "text/x-python",
   "name": "python",
   "nbconvert_exporter": "python",
   "pygments_lexer": "ipython3",
   "version": "3.5.2"
  }
 },
 "nbformat": 4,
 "nbformat_minor": 2
}
