{
 "cells": [
  {
   "cell_type": "code",
   "execution_count": 1,
   "metadata": {
    "collapsed": true
   },
   "outputs": [],
   "source": [
    "import numpy as np\n",
    "import cv2\n",
    "import glob\n",
    "import os\n",
    "from skimage import io\n",
    "import matplotlib.pyplot as plt\n",
    "\n",
    "%matplotlib inline"
   ]
  },
  {
   "cell_type": "code",
   "execution_count": 2,
   "metadata": {
    "collapsed": true
   },
   "outputs": [],
   "source": [
    "img_original_dir = \"data/benign/\"\n",
    "img_resized_dir = \"data/pre-processed/benign/\"\n",
    "imgs_extension = 'jpg'\n",
    "\n",
    "\n",
    "\n",
    "\n",
    "path = \"data/benign/\"\n",
    "dirs = os.listdir( path )"
   ]
  },
  {
   "cell_type": "code",
   "execution_count": 23,
   "metadata": {
    "collapsed": true
   },
   "outputs": [],
   "source": [
    "def thyroid_scale():\n",
    "    for item in dirs:\n",
    "        if os.path.isfile(path+item):\n",
    "            img = cv2.imread(path+item)\n",
    "            gray = cv2.cvtColor(img, cv2.COLOR_BGR2GRAY)\n",
    "            gray = cv2.bilateralFilter(gray, 9, 13, 13)\n",
    "\n",
    "            kernel = np.ones((5,5),np.uint8)\n",
    "            erosion = cv2.erode(gray,kernel,iterations = 2)\n",
    "            kernel = np.ones((4,4),np.uint8)\n",
    "            dilation = cv2.dilate(erosion,kernel,iterations = 2)\n",
    "\n",
    "            edged = cv2.Canny(dilation, 60, 400)\n",
    "\n",
    "            _, contours, hierarchy = cv2.findContours(edged, cv2.RETR_TREE, cv2.CHAIN_APPROX_SIMPLE)\n",
    "\n",
    "            rects = [cv2.boundingRect(cnt) for cnt in contours]\n",
    "            rects = sorted(rects,key=lambda  x:x[1],reverse=True)\n",
    "\n",
    "            for rect in rects:\n",
    "                x,y,w,h = rect\n",
    "                area = w * h\n",
    "        out = img[y+5:y+h-5,x+5:x+w-5]\n",
    "        cv2.imwrite(img_resized_dir+item, out)"
   ]
  },
  {
   "cell_type": "code",
   "execution_count": 24,
   "metadata": {
    "collapsed": true
   },
   "outputs": [],
   "source": [
    "thyroid_scale()"
   ]
  },
  {
   "cell_type": "code",
   "execution_count": null,
   "metadata": {
    "collapsed": true
   },
   "outputs": [],
   "source": []
  }
 ],
 "metadata": {
  "kernelspec": {
   "display_name": "Python 3",
   "language": "python",
   "name": "python3"
  },
  "language_info": {
   "codemirror_mode": {
    "name": "ipython",
    "version": 3
   },
   "file_extension": ".py",
   "mimetype": "text/x-python",
   "name": "python",
   "nbconvert_exporter": "python",
   "pygments_lexer": "ipython3",
   "version": "3.6.3"
  }
 },
 "nbformat": 4,
 "nbformat_minor": 2
}
