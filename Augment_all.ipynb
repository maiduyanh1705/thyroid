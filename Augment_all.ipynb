{
 "cells": [
  {
   "cell_type": "code",
   "execution_count": 1,
   "metadata": {},
   "outputs": [],
   "source": [
    "import warnings\n",
    "warnings.filterwarnings('always')\n",
    "warnings.filterwarnings('ignore')\n",
    "\n",
    "import os\n",
    "import cv2\n",
    "import numpy as np \t\n",
    "from skimage import io\n",
    "\n",
    "import matplotlib.pyplot as plt\n",
    "%matplotlib inline\n",
    "\n",
    "# Define path for processed benign dataset\n",
    "benign_path_augmented = os.path.join(\".\", \"data/Augmented/benign\")\n",
    "\n",
    "# Loop over all images\n",
    "for image_file in sorted(os.listdir(benign_path_augmented)):\n",
    "    \n",
    "    # Ignore files that aren't .jpg images\n",
    "    if image_file[-4:] != '.jpg':\n",
    "            continue\n",
    "    \n",
    "    # Store image path\n",
    "    image_path = os.path.join(benign_path_augmented, image_file)\n",
    "    \n",
    "    # Read image file\n",
    "    img = cv2.imread(image_path)\n",
    "\n",
    "    # Convert image to grayscale\n",
    "    gray = cv2.cvtColor(img,cv2.COLOR_BGR2GRAY)\n",
    "    \n",
    "    # Flip the image horizontally\n",
    "    h_flip_img = np.flip(gray, axis=1)\n",
    "    \n",
    "    # Store h_flip image path\n",
    "    h_flip_img_path = os.path.join(benign_path_augmented, image_file[0:5]+'_h_flip.jpg')\n",
    "    \n",
    "    # Store the h_flip image\n",
    "    cv2.imwrite(h_flip_img_path, h_flip_img)"
   ]
  },
  {
   "cell_type": "code",
   "execution_count": null,
   "metadata": {},
   "outputs": [],
   "source": [
    ""
   ]
  }
 ],
 "metadata": {
  "kernelspec": {
   "display_name": "Python 3",
   "language": "python",
   "name": "python3"
  },
  "language_info": {
   "codemirror_mode": {
    "name": "ipython",
    "version": 3
   },
   "file_extension": ".py",
   "mimetype": "text/x-python",
   "name": "python",
   "nbconvert_exporter": "python",
   "pygments_lexer": "ipython3",
   "version": "3.6.3"
  }
 },
 "nbformat": 4,
 "nbformat_minor": 2
}
