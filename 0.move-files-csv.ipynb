{
 "cells": [
  {
   "cell_type": "code",
   "execution_count": 1,
   "metadata": {},
   "outputs": [],
   "source": [
    "import warnings\n",
    "warnings.filterwarnings('always')\n",
    "warnings.filterwarnings('ignore')"
   ]
  },
  {
   "cell_type": "code",
   "execution_count": 2,
   "metadata": {},
   "outputs": [],
   "source": [
    "import os, shutil\n",
    "import pandas as pd\n",
    "import numpy as np"
   ]
  },
  {
   "cell_type": "code",
   "execution_count": 3,
   "metadata": {},
   "outputs": [],
   "source": [
    "train_df = pd.read_csv('data-raw/raw/csv-private/train_new.csv')\n",
    "validation_df = pd.read_csv('data-raw/raw/csv-private/val_new.csv')\n",
    "test_df = pd.read_csv('data-raw/raw/csv-private/test_new.csv')"
   ]
  },
  {
   "cell_type": "code",
   "execution_count": 4,
   "metadata": {},
   "outputs": [
    {
     "name": "stdout",
     "output_type": "stream",
     "text": [
      "  filename  target\n",
      "0  1_1.png       0\n",
      "1  1_2.png       0\n",
      "2  1_3.png       0\n",
      "3  1_4.png       0\n",
      "4  1_5.png       0\n"
     ]
    }
   ],
   "source": [
    "print(train_df.head())"
   ]
  },
  {
   "cell_type": "code",
   "execution_count": 5,
   "metadata": {},
   "outputs": [
    {
     "data": {
      "text/plain": [
       "0    981\n",
       "1    207\n",
       "Name: target, dtype: int64"
      ]
     },
     "execution_count": 5,
     "metadata": {},
     "output_type": "execute_result"
    }
   ],
   "source": [
    "train_df[\"target\"].value_counts()"
   ]
  },
  {
   "cell_type": "code",
   "execution_count": 6,
   "metadata": {},
   "outputs": [
    {
     "data": {
      "text/plain": [
       "0    117\n",
       "1     27\n",
       "Name: target, dtype: int64"
      ]
     },
     "execution_count": 6,
     "metadata": {},
     "output_type": "execute_result"
    }
   ],
   "source": [
    "validation_df[\"target\"].value_counts()"
   ]
  },
  {
   "cell_type": "code",
   "execution_count": 7,
   "metadata": {},
   "outputs": [
    {
     "data": {
      "text/plain": [
       "0    117\n",
       "1     27\n",
       "Name: target, dtype: int64"
      ]
     },
     "execution_count": 7,
     "metadata": {},
     "output_type": "execute_result"
    }
   ],
   "source": [
    "test_df[\"target\"].value_counts()"
   ]
  },
  {
   "cell_type": "code",
   "execution_count": 8,
   "metadata": {},
   "outputs": [],
   "source": [
    "labels_train = np.zeros((len(train_df), 2))\n",
    "labels_validation = np.zeros((len(validation_df), 2))\n",
    "labels_test = np.zeros((len(test_df), 2))"
   ]
  },
  {
   "cell_type": "code",
   "execution_count": 14,
   "metadata": {},
   "outputs": [],
   "source": [
    "train_dir = 'data-raw/private/train_new'\n",
    "validation_dir = 'data-raw/private/val_new'\n",
    "test_dir = 'data-raw/private/test_new'"
   ]
  },
  {
   "cell_type": "code",
   "execution_count": 10,
   "metadata": {},
   "outputs": [],
   "source": [
    "def move_image(type_, dataframe, directory):\n",
    "\n",
    "    for index, image in enumerate(dataframe['filename']):\n",
    "        image_path = os.path.join(directory, image)\n",
    "\n",
    "        if dataframe.loc[dataframe['filename'] == image]['target'].all() == 0:\n",
    "            os.rename(image_path, os.path.join(\n",
    "                type_, 'benign', image))\n",
    "            if(type_ == 'train'):\n",
    "                labels_train[index][0] = 1\n",
    "            elif(type_ == 'validation'):\n",
    "                labels_validation[index][0] = 1\n",
    "            else:\n",
    "                labels_test[index][0] = 1\n",
    "        elif dataframe.loc[dataframe['filename'] == image]['target'].all() == 1:\n",
    "            os.rename(image_path, os.path.join(\n",
    "                type_, 'malignant', image))\n",
    "            if(type_ == 'train'):\n",
    "                labels_train[index][1] = 1\n",
    "            elif(type_=='validation'):\n",
    "                labels_validation[index][1] = 1\n",
    "            else:\n",
    "                labels_test[index][1] = 1"
   ]
  },
  {
   "cell_type": "code",
   "execution_count": 11,
   "metadata": {},
   "outputs": [],
   "source": [
    "move_image('train', train_df, train_dir)"
   ]
  },
  {
   "cell_type": "code",
   "execution_count": 15,
   "metadata": {},
   "outputs": [],
   "source": [
    "move_image('validation', validation_df, validation_dir)"
   ]
  },
  {
   "cell_type": "code",
   "execution_count": 13,
   "metadata": {},
   "outputs": [],
   "source": [
    "move_image('test', test_df, test_dir)"
   ]
  }
 ],
 "metadata": {
  "kernelspec": {
   "display_name": "Python 3",
   "language": "python",
   "name": "python3"
  },
  "language_info": {
   "codemirror_mode": {
    "name": "ipython",
    "version": 3
   },
   "file_extension": ".py",
   "mimetype": "text/x-python",
   "name": "python",
   "nbconvert_exporter": "python",
   "pygments_lexer": "ipython3",
   "version": "3.6.5"
  }
 },
 "nbformat": 4,
 "nbformat_minor": 2
}
